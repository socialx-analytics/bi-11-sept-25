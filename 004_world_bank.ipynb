{
  "nbformat": 4,
  "nbformat_minor": 0,
  "metadata": {
    "colab": {
      "provenance": [],
      "authorship_tag": "ABX9TyMbQYwzzqKiKrqCLdwhXkKz",
      "include_colab_link": true
    },
    "kernelspec": {
      "name": "python3",
      "display_name": "Python 3"
    },
    "language_info": {
      "name": "python"
    }
  },
  "cells": [
    {
      "cell_type": "markdown",
      "metadata": {
        "id": "view-in-github",
        "colab_type": "text"
      },
      "source": [
        "<a href=\"https://colab.research.google.com/github/socialx-analytics/bi-11-sept-25/blob/main/004_world_bank.ipynb\" target=\"_parent\"><img src=\"https://colab.research.google.com/assets/colab-badge.svg\" alt=\"Open In Colab\"/></a>"
      ]
    },
    {
      "cell_type": "code",
      "execution_count": null,
      "metadata": {
        "colab": {
          "base_uri": "https://localhost:8080/"
        },
        "id": "8aH6x5BrBXy0",
        "outputId": "b0e784c1-45b8-4c5a-8b68-bc3463952a10"
      },
      "outputs": [
        {
          "output_type": "stream",
          "name": "stdout",
          "text": [
            "Data GDP Indonesia:\n",
            "       Negara Tahun          Indikator         Nilai\n",
            "0   Indonesia  2020  GDP (current US$)  1.059055e+12\n",
            "1   Indonesia  2019  GDP (current US$)  1.119100e+12\n",
            "2   Indonesia  2018  GDP (current US$)  1.042272e+12\n",
            "3   Indonesia  2017  GDP (current US$)  1.015619e+12\n",
            "4   Indonesia  2016  GDP (current US$)  9.318774e+11\n",
            "5   Indonesia  2015  GDP (current US$)  8.608542e+11\n",
            "6   Indonesia  2014  GDP (current US$)  8.908148e+11\n",
            "7   Indonesia  2013  GDP (current US$)  9.125241e+11\n",
            "8   Indonesia  2012  GDP (current US$)  9.178699e+11\n",
            "9   Indonesia  2011  GDP (current US$)  8.929691e+11\n",
            "10  Indonesia  2010  GDP (current US$)  7.550942e+11\n",
            "\n",
            "Data telah disimpan ke file data_gdp_indonesia.csv\n"
          ]
        }
      ],
      "source": [
        "import requests\n",
        "import pandas as pd\n",
        "\n",
        "# Menyiapkan parameter untuk API World Bank\n",
        "negara = \"IDN\"  # Kode negara (IDN untuk Indonesia)\n",
        "indikator = \"NY.GDP.MKTP.CD\"  # Kode untuk GDP (dalam USD)\n",
        "tahun_awal = \"2010\"\n",
        "tahun_akhir = \"2020\"\n",
        "\n",
        "# Membuat URL API dengan parameter di atas\n",
        "url = f\"https://api.worldbank.org/v2/country/{negara}/indicator/{indikator}?date={tahun_awal}:{tahun_akhir}&format=json\"\n",
        "\n",
        "# Mengambil data dari World Bank\n",
        "response = requests.get(url)\n",
        "\n",
        "# Jika berhasil mengambil data\n",
        "if response.status_code == 200:\n",
        "    # Mengubah data menjadi format yang bisa dibaca\n",
        "    data = response.json()\n",
        "\n",
        "    # Mengambil data utama (posisi kedua dalam response)\n",
        "    hasil_data = data[1]\n",
        "\n",
        "    # Menyiapkan tempat untuk menyimpan data\n",
        "    semua_data = []\n",
        "\n",
        "    # Mengumpulkan data per tahun\n",
        "    for item in hasil_data:\n",
        "        tahun = item['date']\n",
        "        nilai = item['value']\n",
        "        nama_negara = item['country']['value']\n",
        "        nama_indikator = item['indicator']['value']\n",
        "\n",
        "        # Menambahkan ke kumpulan data\n",
        "        semua_data.append({\n",
        "            'Negara': nama_negara,\n",
        "            'Tahun': tahun,\n",
        "            'Indikator': nama_indikator,\n",
        "            'Nilai': nilai\n",
        "        })\n",
        "\n",
        "    # Membuat tabel data menggunakan pandas\n",
        "    tabel_data = pd.DataFrame(semua_data)\n",
        "\n",
        "    # Menampilkan tabel data\n",
        "    print(\"Data GDP Indonesia:\")\n",
        "    print(tabel_data)\n",
        "\n",
        "    # Menyimpan ke file CSV\n",
        "    nama_file = \"data_gdp_indonesia.csv\"\n",
        "    tabel_data.to_csv(nama_file, index=False)\n",
        "    print(f\"\\nData telah disimpan ke file {nama_file}\")\n",
        "\n",
        "else:\n",
        "    print(f\"Gagal mengambil data. Kode status: {response.status_code}\")"
      ]
    }
  ]
}